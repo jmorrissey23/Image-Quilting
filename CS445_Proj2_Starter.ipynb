{
  "nbformat": 4,
  "nbformat_minor": 0,
  "metadata": {
    "kernelspec": {
      "display_name": "Python 3",
      "language": "python",
      "name": "python3"
    },
    "language_info": {
      "codemirror_mode": {
        "name": "ipython",
        "version": 3
      },
      "file_extension": ".py",
      "mimetype": "text/x-python",
      "name": "python",
      "nbconvert_exporter": "python",
      "pygments_lexer": "ipython3",
      "version": "3.7.1"
    },
    "colab": {
      "name": "CS445_Proj2_Starter.ipynb",
      "provenance": [],
      "collapsed_sections": [],
      "toc_visible": true
    }
  },
  "cells": [
    {
      "cell_type": "markdown",
      "metadata": {
        "id": "H0WNVb19-1Vy",
        "colab_type": "text"
      },
      "source": [
        "# Programming Project #2: Image Quilting"
      ]
    },
    {
      "cell_type": "markdown",
      "metadata": {
        "id": "UIkgcR4l-1V1",
        "colab_type": "text"
      },
      "source": [
        "## CS445: Computational Photography - Fall 2020\n"
      ]
    },
    {
      "cell_type": "code",
      "metadata": {
        "id": "j23xdf6pFUbC",
        "colab_type": "code",
        "colab": {}
      },
      "source": [
        "from google.colab import drive\n",
        "drive.mount('/content/drive')"
      ],
      "execution_count": null,
      "outputs": []
    },
    {
      "cell_type": "code",
      "metadata": {
        "id": "Trc-kktC-1V4",
        "colab_type": "code",
        "colab": {}
      },
      "source": [
        "import cv2\n",
        "import numpy as np\n",
        "import matplotlib.pyplot as plt\n",
        "%matplotlib inline\n",
        "import os\n",
        "from random import random\n",
        "import time\n",
        "\n",
        "# modify to where you store your project data including utils.py\n",
        "datadir = \"/content/drive/My Drive/cs445_projects/proj2/\" \n",
        "\n",
        "utilfn = datadir + \"utils.py\"\n",
        "!cp \"$utilfn\" .\n",
        "samplesfn = datadir + \"samples\"\n",
        "!cp -r \"$samplesfn\" .\n",
        "import utils"
      ],
      "execution_count": 2,
      "outputs": []
    },
    {
      "cell_type": "code",
      "metadata": {
        "id": "962rNeOU-1WA",
        "colab_type": "code",
        "colab": {}
      },
      "source": [
        "from utils import cut # default cut function for seam finding section"
      ],
      "execution_count": 5,
      "outputs": []
    },
    {
      "cell_type": "markdown",
      "metadata": {
        "id": "8viLMXxu-1WH",
        "colab_type": "text"
      },
      "source": [
        "### Part I: Randomly Sampled Texture (10 pts)"
      ]
    },
    {
      "cell_type": "code",
      "metadata": {
        "id": "L9GeLMBe-1WP",
        "colab_type": "code",
        "colab": {}
      },
      "source": [
        "def quilt_random(sample, out_size, patch_size):\n",
        "    \"\"\"\n",
        "    Randomly samples square patches of size patchsize from sample in order to create an output image of size outsize.\n",
        "\n",
        "    :param sample: numpy.ndarray   The image you read from sample directory\n",
        "    :param out_size: int            The width of the square output image\n",
        "    :param patch_size: int          The width of the square sample patch\n",
        "    :return: numpy.ndarray\n",
        "    \"\"\"\n",
        "\n"
      ],
      "execution_count": null,
      "outputs": []
    },
    {
      "cell_type": "code",
      "metadata": {
        "id": "fOTP1KWS-1WU",
        "colab_type": "code",
        "colab": {}
      },
      "source": [
        "sample_img_fn = 'samples/bricks_small.jpg' # feel free to change\n",
        "sample_img = cv2.cvtColor(cv2.imread(sample_img_fn), cv2.COLOR_BGR2RGB)\n",
        "plt.imshow(sample_img)\n",
        "plt.show()\n",
        "\n",
        "out_size = 200  # change these parameters as needed\n",
        "patch_size = 15 \n",
        "res = quilt_random(sample_img, out_size, patch_size)\n",
        "if res is not None:\n",
        "    plt.imshow(res)"
      ],
      "execution_count": null,
      "outputs": []
    },
    {
      "cell_type": "markdown",
      "metadata": {
        "id": "QbWYx0Zu-1WZ",
        "colab_type": "text"
      },
      "source": [
        "### Part II: Overlapping Patches (30 pts)"
      ]
    },
    {
      "cell_type": "code",
      "metadata": {
        "id": "-9o-d9wD-1Wb",
        "colab_type": "code",
        "colab": {}
      },
      "source": [
        "def quilt_simple(sample, out_size, patch_size, overlap, tol):\n",
        "    \"\"\"\n",
        "    Randomly samples square patches of size patchsize from sample in order to create an output image of size outsize.\n",
        "    Feel free to add function parameters\n",
        "    :param sample: numpy.ndarray\n",
        "    :param out_size: int\n",
        "    :param patch_size: int\n",
        "    :param overlap: int\n",
        "    :param tol: float\n",
        "    :return: numpy.ndarray\n",
        "    \"\"\"\n"
      ],
      "execution_count": null,
      "outputs": []
    },
    {
      "cell_type": "code",
      "metadata": {
        "id": "D288qjZ3-1Wg",
        "colab_type": "code",
        "colab": {}
      },
      "source": [
        "sample_img_fn = 'samples/bricks_small.jpg' \n",
        "sample_img = cv2.cvtColor(cv2.imread(sample_img_fn), cv2.COLOR_BGR2RGB)\n",
        "plt.imshow(sample_img)\n",
        "plt.show()\n",
        "\n",
        "out_size = 300  # change these parameters as needed\n",
        "patch_size = 25\n",
        "overlap = 11\n",
        "tol = 5\n",
        "res = quilt_simple(sample_img, out_size, patch_size, overlap, tol) #feel free to change parameters to get best results\n",
        "if res is not None:\n",
        "    plt.figure(figsize=(10,10))\n",
        "    plt.imshow(res)"
      ],
      "execution_count": null,
      "outputs": []
    },
    {
      "cell_type": "markdown",
      "metadata": {
        "id": "fpXmkNvw-1Wm",
        "colab_type": "text"
      },
      "source": [
        "### Part III: Seam Finding (20 pts)\n"
      ]
    },
    {
      "cell_type": "code",
      "metadata": {
        "id": "yAepuWTT-1Wo",
        "colab_type": "code",
        "colab": {}
      },
      "source": [
        "# optional or use cut(err_patch) directly\n",
        "def customized_cut(bndcost):\n",
        "    pass"
      ],
      "execution_count": null,
      "outputs": []
    },
    {
      "cell_type": "code",
      "metadata": {
        "id": "k-vT9j41-1Wt",
        "colab_type": "code",
        "colab": {}
      },
      "source": [
        "def quilt_cut(sample, out_size, patch_size, overlap, tol):\n",
        "    \"\"\"\n",
        "    Samples square patches of size patchsize from sample using seam finding in order to create an output image of size outsize.\n",
        "    Feel free to add function parameters\n",
        "    :param sample: numpy.ndarray\n",
        "    :param out_size: int\n",
        "    :param patch_size: int\n",
        "    :param overlap: int\n",
        "    :param tol: float\n",
        "    :return: numpy.ndarray\n",
        "    \"\"\"\n"
      ],
      "execution_count": null,
      "outputs": []
    },
    {
      "cell_type": "code",
      "metadata": {
        "id": "kbnDy_F_-1Wy",
        "colab_type": "code",
        "colab": {}
      },
      "source": [
        "sample_img_fn = 'samples/bricks_small.jpg' \n",
        "sample_img = cv2.cvtColor(cv2.imread(sample_img_fn), cv2.COLOR_BGR2RGB)\n",
        "plt.imshow(sample_img)\n",
        "plt.show()\n",
        "\n",
        "out_size = 300  # change these parameters as needed\n",
        "patch_size = 25\n",
        "overlap = 11\n",
        "tol = 5\n",
        "res = quilt_cut(sample_img, out_size, patch_size, overlap, tol)\n",
        "if res is not None:\n",
        "    plt.figure(figsize=(15,15))\n",
        "    plt.imshow(res)"
      ],
      "execution_count": null,
      "outputs": []
    },
    {
      "cell_type": "markdown",
      "metadata": {
        "id": "beM0Ryht-1W7",
        "colab_type": "text"
      },
      "source": [
        "### part IV: Texture Transfer (30 pts)"
      ]
    },
    {
      "cell_type": "code",
      "metadata": {
        "id": "_rY1JdF--1W8",
        "colab_type": "code",
        "colab": {}
      },
      "source": [
        "def texture_transfer(sample, patch_size, overlap, tol, guidance_im, alpha):\n",
        "    \"\"\"\n",
        "    Samples square patches of size patchsize from sample using seam finding in order to create an output image of size outsize.\n",
        "    Feel free to modify function parameters\n",
        "    :param sample: numpy.ndarray\n",
        "    :param patch_size: int\n",
        "    :param overlap: int\n",
        "    :param tol: float\n",
        "    :param guidance_im: target overall appearance for the output\n",
        "    :param alpha: float 0-1 for strength of target\n",
        "    :return: numpy.ndarray\n",
        "    \"\"\"\n",
        "    "
      ],
      "execution_count": null,
      "outputs": []
    },
    {
      "cell_type": "code",
      "metadata": {
        "id": "QXFmD66zqbEn",
        "colab_type": "code",
        "colab": {}
      },
      "source": [
        "# load/process appropriate input texture and guidance images\n",
        "\n",
        "patch_size = 25\n",
        "overlap = 11\n",
        "tol = 3\n",
        "alpha = 0.5\n",
        "res = texture_transfer(texture_img, patch_size, overlap, tol, guidance_img, alpha)\n",
        "\n",
        "plt.figure(figsize=(15,15))\n",
        "plt.imshow(res)\n",
        "plt.show()"
      ],
      "execution_count": null,
      "outputs": []
    },
    {
      "cell_type": "markdown",
      "metadata": {
        "id": "1YF4z5Pn-1XC",
        "colab_type": "text"
      },
      "source": [
        "### Bells & Whistles"
      ]
    },
    {
      "cell_type": "markdown",
      "metadata": {
        "id": "xkyZmE5x-1XC",
        "colab_type": "text"
      },
      "source": [
        "(10 pts) Create and use your own version of cut.m. To get these points, you should create your own implementation without basing it directly on the provided function (you're on the honor code for this one). \n",
        "\n",
        "You can simply copy your customized_cut(bndcost) into the box below so that it is easier for us to grade"
      ]
    },
    {
      "cell_type": "code",
      "metadata": {
        "id": "J_uu8QGV-1XD",
        "colab_type": "code",
        "colab": {}
      },
      "source": [
        ""
      ],
      "execution_count": null,
      "outputs": []
    },
    {
      "cell_type": "markdown",
      "metadata": {
        "id": "yKqN35Je-1XI",
        "colab_type": "text"
      },
      "source": [
        "(15 pts) Implement the iterative texture transfer method described in the paper. Compare to the non-iterative method for two examples."
      ]
    },
    {
      "cell_type": "code",
      "metadata": {
        "id": "_2E3ODng-1XJ",
        "colab_type": "code",
        "colab": {}
      },
      "source": [
        ""
      ],
      "execution_count": null,
      "outputs": []
    },
    {
      "cell_type": "markdown",
      "metadata": {
        "id": "mJX7W1KY-1XN",
        "colab_type": "text"
      },
      "source": [
        "(up to 20 pts) Use a combination of texture transfer and blending to create a face-in-toast image like the one on top. To get full points, you must use some type of blending, such as feathering or Laplacian pyramid blending."
      ]
    },
    {
      "cell_type": "code",
      "metadata": {
        "id": "VDlsZWl_-1XO",
        "colab_type": "code",
        "colab": {}
      },
      "source": [
        ""
      ],
      "execution_count": null,
      "outputs": []
    },
    {
      "cell_type": "markdown",
      "metadata": {
        "id": "KnDruSHC-1XS",
        "colab_type": "text"
      },
      "source": [
        "(up to 40 pts) Extend your method to fill holes of arbitrary shape for image completion. In this case, patches are drawn from other parts of the target image. For the full 40 pts, you should implement a smart priority function (e.g., similar to Criminisi et al.)."
      ]
    },
    {
      "cell_type": "code",
      "metadata": {
        "id": "-8kJ9IOW-1XT",
        "colab_type": "code",
        "colab": {}
      },
      "source": [
        ""
      ],
      "execution_count": null,
      "outputs": []
    },
    {
      "cell_type": "code",
      "metadata": {
        "id": "Nx3Ghbcg-1XX",
        "colab_type": "code",
        "colab": {}
      },
      "source": [
        ""
      ],
      "execution_count": null,
      "outputs": []
    },
    {
      "cell_type": "code",
      "metadata": {
        "id": "j0cXmR98-1Xc",
        "colab_type": "code",
        "colab": {}
      },
      "source": [
        ""
      ],
      "execution_count": null,
      "outputs": []
    },
    {
      "cell_type": "code",
      "metadata": {
        "id": "QNktu4lA-1Xg",
        "colab_type": "code",
        "colab": {}
      },
      "source": [
        ""
      ],
      "execution_count": null,
      "outputs": []
    }
  ]
}